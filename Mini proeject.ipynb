{
 "cells": [
  {
   "cell_type": "markdown",
   "id": "75040331-7073-4051-a3bc-d9c71680300d",
   "metadata": {},
   "source": [
    "# MINI PROJECTS"
   ]
  },
  {
   "cell_type": "markdown",
   "id": "0641062a-2d7a-49c2-b234-6fb716df0c0d",
   "metadata": {},
   "source": [
    "# 1.Grain Shopping Bill System"
   ]
  },
  {
   "cell_type": "code",
   "execution_count": null,
   "id": "fe8eaac4-a97d-4bce-b8f8-3f10d814b8ec",
   "metadata": {},
   "outputs": [],
   "source": [
    "Rice_price=40\n",
    "wheat_price=30\n",
    "jowar_price=25\n",
    "bajra_price=20\n",
    "total_bill=0\n",
    "total_kg=0\n",
    "\n",
    "while True:\n",
    "    print(\"welcome sir\")\n",
    "    print(\"what do you want sir\")\n",
    "    print(\"we have,all type of grains\")\n",
    "    \n",
    "    buy=input(\"which grains you want to buy sir\")\n",
    "    kg=int(input(\"How many kgs:\"))\n",
    "    if buy=='Rice':\n",
    "        total_bill+=(kg*Rice_price)\n",
    "    elif buy=='jowar':\n",
    "        total_bill+=(kg*jowar_price)\n",
    "    elif buy =='bajra':\n",
    "        total_bill+=(kg*bajra_price)\n",
    "    elif buy=='wheat':\n",
    "        total_bill +=(kg*wheat_price)\n",
    "    else:\n",
    "        print(\"we dont have that grain\")\n",
    "        continue\n",
    "        \n",
    "    total_kg+=kg\n",
    "    \n",
    "    \n",
    "    con=input(\"Anything Else Sir :\")\n",
    "    if con != 'yes':\n",
    "        print(\"Total_bill:\",total_bill)\n",
    "        print(\"Total_kg:\",total_kg)\n",
    "        break\n",
    "\n",
    "print(\"Thankyou sir please visit again\")"
   ]
  },
  {
   "cell_type": "markdown",
   "id": "046a88b8-6883-4a99-8f10-b8998723c54f",
   "metadata": {},
   "source": [
    "# 2.Currency converter"
   ]
  },
  {
   "cell_type": "code",
   "execution_count": 16,
   "id": "9ed1ae00-9405-44dc-8464-ab09fd545288",
   "metadata": {},
   "outputs": [
    {
     "name": "stdout",
     "output_type": "stream",
     "text": [
      "This program converts US Dollars to Rupees\n",
      "\n"
     ]
    },
    {
     "name": "stdin",
     "output_type": "stream",
     "text": [
      "Enter a amount in dollars: 200\n"
     ]
    },
    {
     "name": "stdout",
     "output_type": "stream",
     "text": [
      "16934.0 rupees.\n"
     ]
    }
   ],
   "source": [
    "def main():\n",
    "    print(\"This program converts US Dollars to Rupees\")\n",
    "    print()\n",
    "    dollars=eval(input(\"Enter a amount in dollars:\"))\n",
    "    rupees=convert_to_rupees(dollars)\n",
    "    print(rupees,\"rupees.\")\n",
    "\n",
    "convert_to_rupees=lambda dollars:dollars*84.67\n",
    "main()"
   ]
  },
  {
   "cell_type": "markdown",
   "id": "7a621df2-7879-4a5b-9c3e-3f44c2d28316",
   "metadata": {},
   "source": [
    "# 3.Interest Payment calculator"
   ]
  },
  {
   "cell_type": "code",
   "execution_count": 22,
   "id": "0d718748-533c-48fd-aa2f-3194d381aca6",
   "metadata": {},
   "outputs": [
    {
     "name": "stdout",
     "output_type": "stream",
     "text": [
      "This is a monthly payment loan calculator\n",
      "\n"
     ]
    },
    {
     "name": "stdin",
     "output_type": "stream",
     "text": [
      "Input the loan amount 23000\n",
      "Enter the annual interest rates 1.4\n",
      "input amount of years: 2\n"
     ]
    },
    {
     "name": "stdout",
     "output_type": "stream",
     "text": [
      "The monthly payment for this loan is :972.37\n"
     ]
    }
   ],
   "source": [
    "def main():\n",
    "    print(\"This is a monthly payment loan calculator\")\n",
    "    print()\n",
    "    \n",
    "    principle=float(input(\"Input the loan amount\"))\n",
    "    rate=float(input(\"Enter the annual interest rates\"))\n",
    "        \n",
    "    years=int(input(\"input amount of years:\"))\n",
    "    monthly_interest_rate=rate/1200\n",
    "    amount_of_months=years*12\n",
    "    monthly_payment=principle*monthly_interest_rate/(1-(1+monthly_interest_rate)**(-amount_of_months))\n",
    "        \n",
    "    print(\"The monthly payment for this loan is :%.2f\" % monthly_payment)\n",
    "\n",
    "main()\n",
    "       "
   ]
  },
  {
   "cell_type": "code",
   "execution_count": null,
   "id": "f78f9404-a079-47af-8f4f-129a34700324",
   "metadata": {},
   "outputs": [],
   "source": []
  },
  {
   "cell_type": "code",
   "execution_count": null,
   "id": "63a66e87-9bf0-4947-b672-abe8fdb0de97",
   "metadata": {},
   "outputs": [],
   "source": []
  }
 ],
 "metadata": {
  "kernelspec": {
   "display_name": "Python 3 (ipykernel)",
   "language": "python",
   "name": "python3"
  },
  "language_info": {
   "codemirror_mode": {
    "name": "ipython",
    "version": 3
   },
   "file_extension": ".py",
   "mimetype": "text/x-python",
   "name": "python",
   "nbconvert_exporter": "python",
   "pygments_lexer": "ipython3",
   "version": "3.12.4"
  }
 },
 "nbformat": 4,
 "nbformat_minor": 5
}
